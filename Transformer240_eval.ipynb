{
 "cells": [
  {
   "cell_type": "code",
   "execution_count": null,
   "id": "43088ab0-eac8-4ff6-8985-ba92105eac47",
   "metadata": {},
   "outputs": [],
   "source": [
    "import numpy as np\n",
    "import pandas as pd\n",
    "import torch\n",
    "import torch.nn as nn\n",
    "from torch.utils.data import DataLoader, Dataset\n",
    "import matplotlib.pyplot as plt\n",
    "from sklearn.model_selection import train_test_split\n",
    "from sklearn.preprocessing import MinMaxScaler\n",
    "from tqdm import tqdm\n",
    "import seaborn as sns\n",
    "import matplotlib.pyplot as plt\n",
    "from sklearn.metrics import mean_squared_error, mean_absolute_error\n",
    "import matplotlib.pyplot as plt\n",
    "from matplotlib.pyplot import MultipleLocator"
   ]
  },
  {
   "cell_type": "code",
   "execution_count": null,
   "id": "9513b40a-d88a-4e3c-9a07-274f694537af",
   "metadata": {},
   "outputs": [],
   "source": [
    "# Load data\n",
    "df = pd.read_csv(r\".\\Data\\train_data.csv\")\n",
    "ts_df = pd.read_csv(r\".\\Data\\test_data.csv\")"
   ]
  },
  {
   "cell_type": "code",
   "execution_count": null,
   "id": "3c3edf71-d2a6-4c0d-91d5-084e9900f535",
   "metadata": {},
   "outputs": [],
   "source": [
    "# Feature processing\n",
    "def preprocess_data(df):\n",
    "    features = [\"temp\", \"atemp\", \"hum\", \"windspeed\", \"season\", \"weekday\", \"hr\", \"holiday\", \"weathersit\", \"workingday\"]\n",
    "    target = \"cnt\"\n",
    "    df_features = df[features]\n",
    "    df.dropna(inplace=True)\n",
    "    df_target = df[target]\n",
    "    return df_features.values, df_target.values\n",
    "\n",
    "X, y = preprocess_data(df)\n",
    "scaler = MinMaxScaler(feature_range=(0, 1))\n",
    "y = scaler.fit_transform(y.reshape(-1, 1))\n",
    "tX, ty = preprocess_data(ts_df)\n",
    "ty = scaler.fit_transform(ty.reshape(-1, 1))\n",
    "print(len(df))"
   ]
  },
  {
   "cell_type": "code",
   "execution_count": null,
   "id": "fb0ad8da-cf3e-4eb7-aa95-44d79e07a752",
   "metadata": {},
   "outputs": [],
   "source": [
    "# Dataset definition\n",
    "class BikeDataset(Dataset):\n",
    "    def __init__(self, X, y, input_len=96, output_len=240):\n",
    "        self.X = X\n",
    "        self.y = y\n",
    "        self.input_len = input_len\n",
    "        self.output_len = output_len\n",
    "\n",
    "    def __len__(self):\n",
    "        return len(self.X) - self.input_len - self.output_len + 1\n",
    "\n",
    "    def __getitem__(self, idx):\n",
    "        return (\n",
    "            torch.tensor(self.X[idx:idx + self.input_len], dtype=torch.float32),\n",
    "            torch.tensor(self.y[idx + self.input_len:idx + self.input_len + self.output_len], dtype=torch.float32),\n",
    "        )"
   ]
  },
  {
   "cell_type": "code",
   "execution_count": null,
   "id": "ef3e7d53-70b9-496b-9e7c-4ddcfed2e293",
   "metadata": {},
   "outputs": [],
   "source": [
    "# Create data loaders\n",
    "train_dataset = BikeDataset(X, y, input_len=96, output_len=240)\n",
    "train_loader = DataLoader(train_dataset, batch_size=32, shuffle=True)\n",
    "test_dataset = BikeDataset(tX, ty, input_len=96, output_len=240)\n",
    "test_loader = DataLoader(test_dataset, batch_size=32, shuffle=False)\n",
    "print(train_dataset.__len__())"
   ]
  },
  {
   "cell_type": "code",
   "execution_count": null,
   "id": "775c55e0-4f13-4e24-9853-463c94a17e5e",
   "metadata": {},
   "outputs": [],
   "source": [
    "device = torch.device(\"cuda\" if torch.cuda.is_available() else \"cpu\")\n",
    "print(f\"Using device: {device}\")"
   ]
  },
  {
   "cell_type": "code",
   "execution_count": null,
   "id": "11e07c9e-3ca0-4006-8a21-89faef68ca03",
   "metadata": {},
   "outputs": [],
   "source": [
    "# Transformer model\n",
    "class TransformerModel(nn.Module):\n",
    "        def __init__(self, input_dim, output_dim, seq_len, hidden_dim=512, nhead=4, num_encoder_layers=3):\n",
    "            super(TransformerModel, self).__init__()\n",
    "            self.embedding = nn.Linear(input_dim, hidden_dim)\n",
    "            self.pos_encoder = nn.Parameter(torch.randn(seq_len, hidden_dim)).unsqueeze(0).repeat(32, 1, 1).permute(1,0,2)\n",
    "            self.transformer = nn.Transformer(d_model=hidden_dim, nhead=nhead, num_encoder_layers=num_encoder_layers, dropout=0.3, activation=\"gelu\")\n",
    "            self.fc_out = nn.Linear(hidden_dim, output_dim)\n",
    "\n",
    "        def forward(self, x):\n",
    "            x = x.permute(1, 0, 2)\n",
    "            device = x.device\n",
    "            self.pos_encoder = self.pos_encoder.to(device)\n",
    "            x = self.embedding(x)+self.pos_encoder\n",
    "            x = self.transformer(x, x)\n",
    "            return self.fc_out(x[-1, :, :])\n",
    "def get_transformer_model(input_dim, output_dim, seq_len):\n",
    "    return TransformerModel(input_dim, output_dim, seq_len)\n",
    "\n",
    "model = get_transformer_model(input_dim=X.shape[1], output_dim=240, seq_len=96)\n",
    "print(X.shape[1])\n",
    "model = model.to(device)"
   ]
  },
  {
   "cell_type": "code",
   "execution_count": null,
   "id": "78368275-4b92-4fd6-8a5c-70211c14bc99",
   "metadata": {},
   "outputs": [],
   "source": [
    "model = torch.load(\"transformer240-2.pth\")\n",
    "model = model.to(device=\"cuda\")  # 移动到设备\n",
    "model.eval()"
   ]
  },
  {
   "cell_type": "code",
   "execution_count": null,
   "id": "68797563-2f13-40fe-8080-cc6e81a6c36c",
   "metadata": {},
   "outputs": [],
   "source": [
    "epochs = 5\n",
    "mse_list = []\n",
    "real_mse_list = []\n",
    "mae_list = []\n",
    "real_mae_list = []\n",
    "predictions, actuals = [], []\n",
    "with torch.no_grad():\n",
    "    mse, mae, real_mse, real_mae = 0, 0, 0, 0\n",
    "    for inputs, targets in test_loader:\n",
    "        # inputs = inputs.transpose(0, 1)\n",
    "        inputs = inputs.to(device)\n",
    "        if len(inputs)!=32:\n",
    "            continue\n",
    "        # print(inputs.shape)\n",
    "        y_pred = model(inputs).cpu().numpy()  # 预测值转为 NumPy 数组\n",
    "        y_true = targets[:,:,0].cpu().numpy()  # 真实值转为 NumPy 数组\n",
    "        # print(y_pred.shape, y_true.shape)\n",
    "        y_true_inv = scaler.inverse_transform(y_true)\n",
    "        y_pred_inv = scaler.inverse_transform(y_pred)\n",
    "        mse += mean_squared_error(y_true, y_pred)\n",
    "        mae += mean_absolute_error(y_true, y_pred)\n",
    "        real_mse += mean_squared_error(y_true_inv, y_pred_inv)\n",
    "        real_mae += mean_absolute_error(y_true_inv, y_pred_inv)\n",
    "    print(f\"MSE = {mse:.4f}, MAE = {mae:.4f}, real_mse = {real_mse:.4f}, real_mae = {real_mae:.4f}\")"
   ]
  },
  {
   "cell_type": "code",
   "execution_count": null,
   "id": "62f91901-28eb-4ea5-bf09-e56a8e952fce",
   "metadata": {},
   "outputs": [],
   "source": [
    "predictions, actuals = [], []\n",
    "cnt = 0\n",
    "with torch.no_grad():\n",
    "    for inputs, targets in test_loader:\n",
    "        # inputs = inputs.transpose(0, 1)\n",
    "        inputs = inputs.to(device)\n",
    "        if len(inputs)!=32:\n",
    "            continue\n",
    "        outputs = model(inputs)\n",
    "        predictions.append(outputs.cpu().numpy())\n",
    "        actuals.append(targets.cpu().numpy())"
   ]
  },
  {
   "cell_type": "code",
   "execution_count": null,
   "id": "2bd04112-2149-4fb1-a75e-dd18dc8647d8",
   "metadata": {},
   "outputs": [],
   "source": [
    "actual = scaler.inverse_transform(actuals[0][0])\n",
    "prediction = scaler.inverse_transform(predictions[0][0].reshape(-1,1))\n",
    "plt.figure(figsize=(16, 6))\n",
    "plt.plot(actual, marker='o', label=\"Actual\")  # 第一个批次，第一个样本的真实值\n",
    "plt.plot(prediction, marker='x', label=\"Prediction\", color='r')  # 第一个批次，第一个样本的预测值\n",
    "plt.legend()\n",
    "plt.title(\"Actual vs Predicted (Future 240 Hours)-Transformer\")\n",
    "plt.xlabel(\"Future Time Steps\")\n",
    "plt.ylabel(\"Count (cnt)\")\n",
    "plt.grid()\n",
    "\n",
    "x_major_locator=MultipleLocator(8)\n",
    "ax=plt.gca()\n",
    "ax.xaxis.set_major_locator(x_major_locator)\n",
    "plt.xlim(0,240)\n",
    "plt.show()"
   ]
  },
  {
   "cell_type": "code",
   "execution_count": null,
   "id": "8373b110-711c-470b-8e4e-f158efabcfe9",
   "metadata": {},
   "outputs": [],
   "source": [
    "expn = 4\n",
    "mse_list, real_mse_list = [], []\n",
    "mae_list, real_mae_list = [], []\n",
    "for i in range(expn):\n",
    "    model_path = \"Transformer240-\"+str(i+1)+\".pth\"\n",
    "    model = torch.load(model_path)\n",
    "    device = torch.device(\"cuda\" if torch.cuda.is_available() else \"cpu\")\n",
    "    model = model.to(device)\n",
    "    with torch.no_grad():\n",
    "        mse, mae, real_mse, real_mae = 0, 0, 0, 0\n",
    "        for inputs, targets in test_loader:\n",
    "            # inputs = inputs.transpose(0, 1)\n",
    "            inputs = inputs.to(device)\n",
    "            if len(inputs)!=32:\n",
    "                continue\n",
    "            # print(inputs.shape)\n",
    "            y_pred = model(inputs).cpu().numpy()  # 预测值转为 NumPy 数组\n",
    "            y_true = targets[:,:,0].cpu().numpy()  # 真实值转为 NumPy 数组\n",
    "            # print(y_pred.shape, y_true.shape)\n",
    "            y_true_inv = scaler.inverse_transform(y_true)\n",
    "            y_pred_inv = scaler.inverse_transform(y_pred)\n",
    "            mse += mean_squared_error(y_true, y_pred)\n",
    "            mae += mean_absolute_error(y_true, y_pred)\n",
    "            real_mse += mean_squared_error(y_true_inv, y_pred_inv)\n",
    "            real_mae += mean_absolute_error(y_true_inv, y_pred_inv)\n",
    "        print(f\"Test {i+1}: MSE = {mse:.4f}, MAE = {mae:.4f}, real_mse = {real_mse:.4f}, real_mae = {real_mae:.4f}\")\n",
    "        mse_list.append(mse)\n",
    "        real_mse_list.append(real_mse)\n",
    "        mae_list.append(mae)\n",
    "        real_mae_list.append(real_mae)\n",
    "average_mse = np.mean(mse_list)\n",
    "average_mae = np.mean(mae_list)\n",
    "real_average_mse = np.mean(real_mse_list)\n",
    "real_average_mae = np.mean(real_mae_list)\n",
    "mse_std = np.std(mse_list)\n",
    "mae_std = np.std(mae_list)\n",
    "real_mse_std = np.std(real_mse_list)\n",
    "real_mae_std = np.std(real_mae_list)\n",
    "print(f\"Average MSE: {average_mse:.4f}\")\n",
    "print(f\"Average MAE: {average_mae:.4f}\")\n",
    "print(f\"Real Average MSE: {real_average_mse:.4f}\")\n",
    "print(f\"Real Average MAE: {real_average_mae:.4f}\")\n",
    "print(f\"MSE STD: {mse_std:.4f}\")\n",
    "print(f\"MAE STD: {mae_std:.4f}\")\n",
    "print(f\"Real MSE STD: {real_mse_std:.4f}\")\n",
    "print(f\"Real MAE STD: {real_mae_std:.4f}\")"
   ]
  },
  {
   "cell_type": "code",
   "execution_count": null,
   "id": "f592bac0-4fab-4d5e-9dea-6d787ff35d5a",
   "metadata": {},
   "outputs": [],
   "source": []
  }
 ],
 "metadata": {
  "kernelspec": {
   "display_name": "Python 3 (ipykernel)",
   "language": "python",
   "name": "python3"
  },
  "language_info": {
   "codemirror_mode": {
    "name": "ipython",
    "version": 3
   },
   "file_extension": ".py",
   "mimetype": "text/x-python",
   "name": "python",
   "nbconvert_exporter": "python",
   "pygments_lexer": "ipython3",
   "version": "3.10.16"
  }
 },
 "nbformat": 4,
 "nbformat_minor": 5
}
