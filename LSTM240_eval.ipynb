{
 "cells": [
  {
   "cell_type": "code",
   "execution_count": 1,
   "id": "38f13984-7693-46ae-9794-784452d54461",
   "metadata": {},
   "outputs": [],
   "source": [
    "import warnings\n",
    "\n",
    "warnings.filterwarnings(\"ignore\")\n",
    "import pandas as pd\n",
    "import numpy as np\n",
    "import torch\n",
    "import torch.nn as nn\n",
    "from sklearn.model_selection import train_test_split\n",
    "from sklearn.preprocessing import MinMaxScaler\n",
    "from tqdm import tqdm\n",
    "import seaborn as sns\n",
    "import matplotlib.pyplot as plt\n",
    "from sklearn.metrics import mean_squared_error, mean_absolute_error\n",
    "import matplotlib.pyplot as plt\n",
    "from matplotlib.pyplot import MultipleLocator"
   ]
  },
  {
   "cell_type": "code",
   "execution_count": 2,
   "id": "ccbc93e6-e910-414f-96d1-9b8f6735bd41",
   "metadata": {},
   "outputs": [],
   "source": [
    "# 读取数据\n",
    "train = pd.read_csv(r\".\\\\Data\\\\train_data.csv\")\n",
    "test = pd.read_csv(r\".\\\\Data\\\\test_data.csv\")\n",
    "\n",
    "# 标准化数据\n",
    "scaler = MinMaxScaler(feature_range=(0, 1))\n",
    "features = [\"temp\", \"atemp\", \"hum\", \"windspeed\", \"season\", \"weekday\", \"hr\", \"holiday\", \"weathersit\", \"workingday\",\"cnt\"]\n",
    "train = train[features]\n",
    "test = test[features]\n",
    "train.dropna(inplace=True)\n",
    "features = features[:-1]\n",
    "train[features] = scaler.fit_transform(train[features])\n",
    "test[features] = scaler.transform(test[features])\n",
    "\n",
    "cnt_scaler = MinMaxScaler()\n",
    "train[\"cnt\"] = cnt_scaler.fit_transform(train[[\"cnt\"]])\n",
    "test[\"cnt\"] = cnt_scaler.transform(test[[\"cnt\"]])"
   ]
  },
  {
   "cell_type": "code",
   "execution_count": 3,
   "id": "048cdb84-4581-43fc-867c-36f557323ec6",
   "metadata": {},
   "outputs": [
    {
     "name": "stderr",
     "output_type": "stream",
     "text": [
      "100%|██████████| 14881/14881 [00:01<00:00, 12829.63it/s]\n",
      "100%|██████████| 1825/1825 [00:00<00:00, 15632.97it/s]\n"
     ]
    },
    {
     "name": "stdout",
     "output_type": "stream",
     "text": [
      "X_train : torch.Size([14881, 96, 13])\n",
      "X_test : torch.Size([1825, 96, 13])\n",
      "y_train : torch.Size([14881, 240])\n",
      "y_test: torch.Size([1825, 240])\n"
     ]
    }
   ],
   "source": [
    "# 准备数据\n",
    "def prepare_data(X, y, past_steps=96, forecast_steps=240):\n",
    "    Xs, Ys = [], []\n",
    "    for i in tqdm(range(len(X) - past_steps - forecast_steps + 1)):\n",
    "        # 输入包含过去 96 小时的数据\n",
    "        Xs.append(X.iloc[i:i + past_steps].to_numpy())\n",
    "        # 输出为未来 240 小时的目标值\n",
    "        Ys.append(y.iloc[i + past_steps:i + past_steps + forecast_steps].to_numpy())\n",
    "    return np.array(Xs), np.array(Ys)\n",
    "\n",
    "past_steps = 96    # 利用过去 \n",
    "forecast_steps = 240  # 预测未来 \n",
    "\n",
    "X_train, y_train = prepare_data(train, train.cnt, past_steps=past_steps, forecast_steps=forecast_steps)\n",
    "X_test, y_test = prepare_data(test, test.cnt, past_steps=past_steps, forecast_steps=forecast_steps)\n",
    "\n",
    "# 转换为 PyTorch 张量\n",
    "X_train = torch.tensor(X_train, dtype=torch.float32)\n",
    "y_train = torch.tensor(y_train, dtype=torch.float32)\n",
    "X_test = torch.tensor(X_test, dtype=torch.float32)\n",
    "y_test = torch.tensor(y_test, dtype=torch.float32)\n",
    "\n",
    "print(\"X_train : {}\\nX_test : {}\\ny_train : {}\\ny_test: {}\".format(X_train.shape,X_test.shape,y_train.shape,y_test.shape))"
   ]
  },
  {
   "cell_type": "code",
   "execution_count": 4,
   "id": "971e1ad0-c7cf-4ea9-9404-2cf0712818cf",
   "metadata": {},
   "outputs": [],
   "source": [
    "class LSTMModel(nn.Module):\n",
    "    def __init__(self, input_dim, hidden_dim, output_dim, num_layers=1):\n",
    "        super(LSTMModel, self).__init__()\n",
    "        self.lstm = nn.LSTM(input_dim, hidden_dim, num_layers, batch_first=True, bidirectional=True)\n",
    "        self.dropout = nn.Dropout(0.2)\n",
    "        self.fc = nn.Linear(hidden_dim * 2, output_dim)  # 输出维度为预测时间步数\n",
    "\n",
    "    def forward(self, x):\n",
    "        out, _ = self.lstm(x)  # LSTM 输出所有时间步的特征\n",
    "        out = self.dropout(out[:, -1, :])  # 只取最后一个时间步的特征\n",
    "        out = self.fc(out)  # 线性层生成未来 240 小时的预测\n",
    "        return out"
   ]
  },
  {
   "cell_type": "code",
   "execution_count": 5,
   "id": "4356d0f6-1b8a-4e32-9a32-3b16676f2906",
   "metadata": {},
   "outputs": [
    {
     "name": "stdout",
     "output_type": "stream",
     "text": [
      "Using device: cuda\n"
     ]
    }
   ],
   "source": [
    "model = torch.load(\"对比LSTM240.pth\")\n",
    "device = torch.device(\"cuda\" if torch.cuda.is_available() else \"cpu\")\n",
    "model = model.to(device)  # 移动到设备\n",
    "print(f\"Using device: {device}\")\n",
    "X_test = X_test.to(device)\n",
    "y_test = y_test.to(device)\n",
    "forecast_steps = 240\n",
    "# 切换模型到评估模式\n",
    "model.eval()\n",
    "#测试5次\n",
    "epoch = 5\n",
    "batch_size = 32"
   ]
  },
  {
   "cell_type": "code",
   "execution_count": 6,
   "id": "bc52b3c9-7dfc-491d-86e1-165805eefe6d",
   "metadata": {
    "scrolled": true
   },
   "outputs": [
    {
     "ename": "RuntimeError",
     "evalue": "shape '[6656, 1]' is invalid for input of size 7168",
     "output_type": "error",
     "traceback": [
      "\u001b[1;31m---------------------------------------------------------------------------\u001b[0m",
      "\u001b[1;31mRuntimeError\u001b[0m                              Traceback (most recent call last)",
      "Cell \u001b[1;32mIn[6], line 9\u001b[0m\n\u001b[0;32m      6\u001b[0m \u001b[38;5;28;01mwith\u001b[39;00m torch\u001b[38;5;241m.\u001b[39mno_grad():\n\u001b[0;32m      7\u001b[0m     \u001b[38;5;66;03m# 使用模型进行预测\u001b[39;00m\n\u001b[0;32m      8\u001b[0m     mse, mae \u001b[38;5;241m=\u001b[39m \u001b[38;5;241m0\u001b[39m, \u001b[38;5;241m0\u001b[39m\n\u001b[1;32m----> 9\u001b[0m     y_pred \u001b[38;5;241m=\u001b[39m \u001b[43mmodel\u001b[49m\u001b[43m(\u001b[49m\u001b[43mX_test\u001b[49m\u001b[43m)\u001b[49m\u001b[38;5;241m.\u001b[39mcpu()\u001b[38;5;241m.\u001b[39mnumpy()  \u001b[38;5;66;03m# 预测值转为 NumPy 数组\u001b[39;00m\n\u001b[0;32m     10\u001b[0m     y_true \u001b[38;5;241m=\u001b[39m y_test\u001b[38;5;241m.\u001b[39mcpu()\u001b[38;5;241m.\u001b[39mnumpy()  \u001b[38;5;66;03m# 真实值转为 NumPy 数组\u001b[39;00m\n\u001b[0;32m     11\u001b[0m     y_true_inv \u001b[38;5;241m=\u001b[39m cnt_scaler\u001b[38;5;241m.\u001b[39minverse_transform(y_test\u001b[38;5;241m.\u001b[39mcpu()\u001b[38;5;241m.\u001b[39mnumpy()\u001b[38;5;241m.\u001b[39mreshape(\u001b[38;5;241m-\u001b[39m\u001b[38;5;241m1\u001b[39m, forecast_steps))\n",
      "File \u001b[1;32mD:\\software\\anaconda3\\envs\\pytorch\\lib\\site-packages\\torch\\nn\\modules\\module.py:1518\u001b[0m, in \u001b[0;36mModule._wrapped_call_impl\u001b[1;34m(self, *args, **kwargs)\u001b[0m\n\u001b[0;32m   1516\u001b[0m     \u001b[38;5;28;01mreturn\u001b[39;00m \u001b[38;5;28mself\u001b[39m\u001b[38;5;241m.\u001b[39m_compiled_call_impl(\u001b[38;5;241m*\u001b[39margs, \u001b[38;5;241m*\u001b[39m\u001b[38;5;241m*\u001b[39mkwargs)  \u001b[38;5;66;03m# type: ignore[misc]\u001b[39;00m\n\u001b[0;32m   1517\u001b[0m \u001b[38;5;28;01melse\u001b[39;00m:\n\u001b[1;32m-> 1518\u001b[0m     \u001b[38;5;28;01mreturn\u001b[39;00m \u001b[38;5;28mself\u001b[39m\u001b[38;5;241m.\u001b[39m_call_impl(\u001b[38;5;241m*\u001b[39margs, \u001b[38;5;241m*\u001b[39m\u001b[38;5;241m*\u001b[39mkwargs)\n",
      "File \u001b[1;32mD:\\software\\anaconda3\\envs\\pytorch\\lib\\site-packages\\torch\\nn\\modules\\module.py:1527\u001b[0m, in \u001b[0;36mModule._call_impl\u001b[1;34m(self, *args, **kwargs)\u001b[0m\n\u001b[0;32m   1522\u001b[0m \u001b[38;5;66;03m# If we don't have any hooks, we want to skip the rest of the logic in\u001b[39;00m\n\u001b[0;32m   1523\u001b[0m \u001b[38;5;66;03m# this function, and just call forward.\u001b[39;00m\n\u001b[0;32m   1524\u001b[0m \u001b[38;5;28;01mif\u001b[39;00m \u001b[38;5;129;01mnot\u001b[39;00m (\u001b[38;5;28mself\u001b[39m\u001b[38;5;241m.\u001b[39m_backward_hooks \u001b[38;5;129;01mor\u001b[39;00m \u001b[38;5;28mself\u001b[39m\u001b[38;5;241m.\u001b[39m_backward_pre_hooks \u001b[38;5;129;01mor\u001b[39;00m \u001b[38;5;28mself\u001b[39m\u001b[38;5;241m.\u001b[39m_forward_hooks \u001b[38;5;129;01mor\u001b[39;00m \u001b[38;5;28mself\u001b[39m\u001b[38;5;241m.\u001b[39m_forward_pre_hooks\n\u001b[0;32m   1525\u001b[0m         \u001b[38;5;129;01mor\u001b[39;00m _global_backward_pre_hooks \u001b[38;5;129;01mor\u001b[39;00m _global_backward_hooks\n\u001b[0;32m   1526\u001b[0m         \u001b[38;5;129;01mor\u001b[39;00m _global_forward_hooks \u001b[38;5;129;01mor\u001b[39;00m _global_forward_pre_hooks):\n\u001b[1;32m-> 1527\u001b[0m     \u001b[38;5;28;01mreturn\u001b[39;00m forward_call(\u001b[38;5;241m*\u001b[39margs, \u001b[38;5;241m*\u001b[39m\u001b[38;5;241m*\u001b[39mkwargs)\n\u001b[0;32m   1529\u001b[0m \u001b[38;5;28;01mtry\u001b[39;00m:\n\u001b[0;32m   1530\u001b[0m     result \u001b[38;5;241m=\u001b[39m \u001b[38;5;28;01mNone\u001b[39;00m\n",
      "Cell \u001b[1;32mIn[4], line 9\u001b[0m, in \u001b[0;36mLSTMModel.forward\u001b[1;34m(self, x)\u001b[0m\n\u001b[0;32m      8\u001b[0m \u001b[38;5;28;01mdef\u001b[39;00m \u001b[38;5;21mforward\u001b[39m(\u001b[38;5;28mself\u001b[39m, x):\n\u001b[1;32m----> 9\u001b[0m     out, _ \u001b[38;5;241m=\u001b[39m \u001b[38;5;28;43mself\u001b[39;49m\u001b[38;5;241;43m.\u001b[39;49m\u001b[43mlstm\u001b[49m\u001b[43m(\u001b[49m\u001b[43mx\u001b[49m\u001b[43m)\u001b[49m  \u001b[38;5;66;03m# LSTM 输出所有时间步的特征\u001b[39;00m\n\u001b[0;32m     10\u001b[0m     out \u001b[38;5;241m=\u001b[39m \u001b[38;5;28mself\u001b[39m\u001b[38;5;241m.\u001b[39mdropout(out[:, \u001b[38;5;241m-\u001b[39m\u001b[38;5;241m1\u001b[39m, :])  \u001b[38;5;66;03m# 只取最后一个时间步的特征\u001b[39;00m\n\u001b[0;32m     11\u001b[0m     out \u001b[38;5;241m=\u001b[39m \u001b[38;5;28mself\u001b[39m\u001b[38;5;241m.\u001b[39mfc(out)  \u001b[38;5;66;03m# 线性层生成未来 240 小时的预测\u001b[39;00m\n",
      "File \u001b[1;32mD:\\software\\anaconda3\\envs\\pytorch\\lib\\site-packages\\torch\\nn\\modules\\module.py:1518\u001b[0m, in \u001b[0;36mModule._wrapped_call_impl\u001b[1;34m(self, *args, **kwargs)\u001b[0m\n\u001b[0;32m   1516\u001b[0m     \u001b[38;5;28;01mreturn\u001b[39;00m \u001b[38;5;28mself\u001b[39m\u001b[38;5;241m.\u001b[39m_compiled_call_impl(\u001b[38;5;241m*\u001b[39margs, \u001b[38;5;241m*\u001b[39m\u001b[38;5;241m*\u001b[39mkwargs)  \u001b[38;5;66;03m# type: ignore[misc]\u001b[39;00m\n\u001b[0;32m   1517\u001b[0m \u001b[38;5;28;01melse\u001b[39;00m:\n\u001b[1;32m-> 1518\u001b[0m     \u001b[38;5;28;01mreturn\u001b[39;00m \u001b[38;5;28mself\u001b[39m\u001b[38;5;241m.\u001b[39m_call_impl(\u001b[38;5;241m*\u001b[39margs, \u001b[38;5;241m*\u001b[39m\u001b[38;5;241m*\u001b[39mkwargs)\n",
      "File \u001b[1;32mD:\\software\\anaconda3\\envs\\pytorch\\lib\\site-packages\\torch\\nn\\modules\\module.py:1527\u001b[0m, in \u001b[0;36mModule._call_impl\u001b[1;34m(self, *args, **kwargs)\u001b[0m\n\u001b[0;32m   1522\u001b[0m \u001b[38;5;66;03m# If we don't have any hooks, we want to skip the rest of the logic in\u001b[39;00m\n\u001b[0;32m   1523\u001b[0m \u001b[38;5;66;03m# this function, and just call forward.\u001b[39;00m\n\u001b[0;32m   1524\u001b[0m \u001b[38;5;28;01mif\u001b[39;00m \u001b[38;5;129;01mnot\u001b[39;00m (\u001b[38;5;28mself\u001b[39m\u001b[38;5;241m.\u001b[39m_backward_hooks \u001b[38;5;129;01mor\u001b[39;00m \u001b[38;5;28mself\u001b[39m\u001b[38;5;241m.\u001b[39m_backward_pre_hooks \u001b[38;5;129;01mor\u001b[39;00m \u001b[38;5;28mself\u001b[39m\u001b[38;5;241m.\u001b[39m_forward_hooks \u001b[38;5;129;01mor\u001b[39;00m \u001b[38;5;28mself\u001b[39m\u001b[38;5;241m.\u001b[39m_forward_pre_hooks\n\u001b[0;32m   1525\u001b[0m         \u001b[38;5;129;01mor\u001b[39;00m _global_backward_pre_hooks \u001b[38;5;129;01mor\u001b[39;00m _global_backward_hooks\n\u001b[0;32m   1526\u001b[0m         \u001b[38;5;129;01mor\u001b[39;00m _global_forward_hooks \u001b[38;5;129;01mor\u001b[39;00m _global_forward_pre_hooks):\n\u001b[1;32m-> 1527\u001b[0m     \u001b[38;5;28;01mreturn\u001b[39;00m forward_call(\u001b[38;5;241m*\u001b[39margs, \u001b[38;5;241m*\u001b[39m\u001b[38;5;241m*\u001b[39mkwargs)\n\u001b[0;32m   1529\u001b[0m \u001b[38;5;28;01mtry\u001b[39;00m:\n\u001b[0;32m   1530\u001b[0m     result \u001b[38;5;241m=\u001b[39m \u001b[38;5;28;01mNone\u001b[39;00m\n",
      "File \u001b[1;32mD:\\software\\anaconda3\\envs\\pytorch\\lib\\site-packages\\torch\\nn\\modules\\rnn.py:879\u001b[0m, in \u001b[0;36mLSTM.forward\u001b[1;34m(self, input, hx)\u001b[0m\n\u001b[0;32m    876\u001b[0m         hx \u001b[38;5;241m=\u001b[39m \u001b[38;5;28mself\u001b[39m\u001b[38;5;241m.\u001b[39mpermute_hidden(hx, sorted_indices)\n\u001b[0;32m    878\u001b[0m \u001b[38;5;28;01mif\u001b[39;00m batch_sizes \u001b[38;5;129;01mis\u001b[39;00m \u001b[38;5;28;01mNone\u001b[39;00m:\n\u001b[1;32m--> 879\u001b[0m     result \u001b[38;5;241m=\u001b[39m \u001b[43m_VF\u001b[49m\u001b[38;5;241;43m.\u001b[39;49m\u001b[43mlstm\u001b[49m\u001b[43m(\u001b[49m\u001b[38;5;28;43minput\u001b[39;49m\u001b[43m,\u001b[49m\u001b[43m \u001b[49m\u001b[43mhx\u001b[49m\u001b[43m,\u001b[49m\u001b[43m \u001b[49m\u001b[38;5;28;43mself\u001b[39;49m\u001b[38;5;241;43m.\u001b[39;49m\u001b[43m_flat_weights\u001b[49m\u001b[43m,\u001b[49m\u001b[43m \u001b[49m\u001b[38;5;28;43mself\u001b[39;49m\u001b[38;5;241;43m.\u001b[39;49m\u001b[43mbias\u001b[49m\u001b[43m,\u001b[49m\u001b[43m \u001b[49m\u001b[38;5;28;43mself\u001b[39;49m\u001b[38;5;241;43m.\u001b[39;49m\u001b[43mnum_layers\u001b[49m\u001b[43m,\u001b[49m\n\u001b[0;32m    880\u001b[0m \u001b[43m                      \u001b[49m\u001b[38;5;28;43mself\u001b[39;49m\u001b[38;5;241;43m.\u001b[39;49m\u001b[43mdropout\u001b[49m\u001b[43m,\u001b[49m\u001b[43m \u001b[49m\u001b[38;5;28;43mself\u001b[39;49m\u001b[38;5;241;43m.\u001b[39;49m\u001b[43mtraining\u001b[49m\u001b[43m,\u001b[49m\u001b[43m \u001b[49m\u001b[38;5;28;43mself\u001b[39;49m\u001b[38;5;241;43m.\u001b[39;49m\u001b[43mbidirectional\u001b[49m\u001b[43m,\u001b[49m\u001b[43m \u001b[49m\u001b[38;5;28;43mself\u001b[39;49m\u001b[38;5;241;43m.\u001b[39;49m\u001b[43mbatch_first\u001b[49m\u001b[43m)\u001b[49m\n\u001b[0;32m    881\u001b[0m \u001b[38;5;28;01melse\u001b[39;00m:\n\u001b[0;32m    882\u001b[0m     result \u001b[38;5;241m=\u001b[39m _VF\u001b[38;5;241m.\u001b[39mlstm(\u001b[38;5;28minput\u001b[39m, batch_sizes, hx, \u001b[38;5;28mself\u001b[39m\u001b[38;5;241m.\u001b[39m_flat_weights, \u001b[38;5;28mself\u001b[39m\u001b[38;5;241m.\u001b[39mbias,\n\u001b[0;32m    883\u001b[0m                       \u001b[38;5;28mself\u001b[39m\u001b[38;5;241m.\u001b[39mnum_layers, \u001b[38;5;28mself\u001b[39m\u001b[38;5;241m.\u001b[39mdropout, \u001b[38;5;28mself\u001b[39m\u001b[38;5;241m.\u001b[39mtraining, \u001b[38;5;28mself\u001b[39m\u001b[38;5;241m.\u001b[39mbidirectional)\n",
      "\u001b[1;31mRuntimeError\u001b[0m: shape '[6656, 1]' is invalid for input of size 7168"
     ]
    }
   ],
   "source": [
    "with torch.no_grad():\n",
    "    # 使用模型进行预测\n",
    "    mse, mae = 0, 0\n",
    "    y_pred = model(X_test).cpu().numpy()  # 预测值转为 NumPy 数组\n",
    "    y_true = y_test.cpu().numpy()  # 真实值转为 NumPy 数组\n",
    "    y_true_inv = cnt_scaler.inverse_transform(y_test.cpu().numpy().reshape(-1, forecast_steps))\n",
    "    y_pred_inv = cnt_scaler.inverse_transform(y_pred.reshape(-1, forecast_steps))\n",
    "    # print(y_true_inv, y_pred_inv)\n",
    "    mse = mean_squared_error(y_true, y_pred)\n",
    "    mae = mean_absolute_error(y_true, y_pred)\n",
    "    real_mse = mean_squared_error(y_true_inv, y_pred_inv)\n",
    "    real_mae = mean_absolute_error(y_true_inv, y_pred_inv)\n",
    "    print(f\"Test {i+1}: MSE = {mse:.4f}, MAE = {mae:.4f}, real_mse = {real_mse:.4f}, real_mae = {real_mae:.4f}\")"
   ]
  },
  {
   "cell_type": "code",
   "execution_count": null,
   "id": "2a2028ac-392c-472c-935d-89bd58cc5e16",
   "metadata": {
    "scrolled": true
   },
   "outputs": [],
   "source": [
    "sample_idx = 0  # 选择一个样本进行可视化\n",
    "plt.figure(figsize=(16, 6))\n",
    "plt.plot(range(forecast_steps), y_true_inv[sample_idx], marker=\"o\", label=\"Actual\")\n",
    "plt.plot(range(forecast_steps), y_pred_inv[sample_idx], marker=\"x\", label=\"Prediction\", color=\"r\")\n",
    "plt.legend()\n",
    "plt.title(\"Actual vs Predicted (Future 240 Hours)-LSTM\")\n",
    "plt.xlabel(\"Future Time Steps\")\n",
    "plt.ylabel(\"Count (cnt)\")\n",
    "plt.grid()\n",
    "\n",
    "x_major_locator=MultipleLocator(8)\n",
    "ax=plt.gca()\n",
    "ax.xaxis.set_major_locator(x_major_locator)\n",
    "plt.xlim(0,240)\n",
    "plt.show()"
   ]
  },
  {
   "cell_type": "code",
   "execution_count": null,
   "id": "5ae8711e-b6dd-42d3-9647-560cca19349c",
   "metadata": {},
   "outputs": [],
   "source": [
    "expn = 5\n",
    "mse_list, real_mse_list = [], []\n",
    "mae_list, real_mae_list = [], []\n",
    "for i in range(expn):\n",
    "    model_path = \"LSTM240-\"+str(i+1)+\".pth\"\n",
    "    model = torch.load(model_path)\n",
    "    device = torch.device(\"cuda\" if torch.cuda.is_available() else \"cpu\")\n",
    "    model = model.to(device)\n",
    "    with torch.no_grad():\n",
    "        # 使用模型进行预测\n",
    "        mse, mae = 0, 0\n",
    "        y_pred = model(X_test).cpu().numpy()  # 预测值转为 NumPy 数组\n",
    "        y_true = y_test.cpu().numpy()  # 真实值转为 NumPy 数组\n",
    "        y_true_inv = cnt_scaler.inverse_transform(y_test.cpu().numpy().reshape(-1, forecast_steps))\n",
    "        y_pred_inv = cnt_scaler.inverse_transform(y_pred.reshape(-1, forecast_steps))\n",
    "        mse = mean_squared_error(y_true, y_pred)\n",
    "        mae = mean_absolute_error(y_true, y_pred)\n",
    "        real_mse = mean_squared_error(y_true_inv, y_pred_inv)\n",
    "        real_mae = mean_absolute_error(y_true_inv, y_pred_inv)\n",
    "        print(f\"Test {i+1}: MSE = {mse:.4f}, MAE = {mae:.4f}, real_mse = {real_mse:.4f}, real_mae = {real_mae:.4f}\")\n",
    "        mse_list.append(mse)\n",
    "        real_mse_list.append(real_mse)\n",
    "        mae_list.append(mae)\n",
    "        real_mae_list.append(real_mae)\n",
    "average_mse = np.mean(mse_list)\n",
    "average_mae = np.mean(mae_list)\n",
    "real_average_mse = np.mean(real_mse_list)\n",
    "real_average_mae = np.mean(real_mae_list)\n",
    "mse_std = np.std(mse_list)\n",
    "mae_std = np.std(mae_list)\n",
    "real_mse_std = np.std(real_mse_list)\n",
    "real_mae_std = np.std(real_mae_list)\n",
    "print(f\"Average MSE: {average_mse:.4f}\")\n",
    "print(f\"Average MAE: {average_mae:.4f}\")\n",
    "print(f\"Real Average MSE: {real_average_mse:.4f}\")\n",
    "print(f\"Real Average MAE: {real_average_mae:.4f}\")\n",
    "print(f\"MSE STD: {mse_std:.4f}\")\n",
    "print(f\"MAE STD: {mae_std:.4f}\")\n",
    "print(f\"Real MSE STD: {real_mse_std:.4f}\")\n",
    "print(f\"Real MAE STD: {real_mae_std:.4f}\")"
   ]
  },
  {
   "cell_type": "code",
   "execution_count": null,
   "id": "c1518f03-0af5-48eb-99b4-df343548968c",
   "metadata": {},
   "outputs": [],
   "source": []
  }
 ],
 "metadata": {
  "kernelspec": {
   "display_name": "Python 3 (ipykernel)",
   "language": "python",
   "name": "python3"
  },
  "language_info": {
   "codemirror_mode": {
    "name": "ipython",
    "version": 3
   },
   "file_extension": ".py",
   "mimetype": "text/x-python",
   "name": "python",
   "nbconvert_exporter": "python",
   "pygments_lexer": "ipython3",
   "version": "3.10.16"
  }
 },
 "nbformat": 4,
 "nbformat_minor": 5
}
