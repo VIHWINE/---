{
 "cells": [
  {
   "cell_type": "code",
   "execution_count": null,
   "id": "895752aa6c9d9335",
   "metadata": {
    "ExecuteTime": {
     "end_time": "2025-01-20T00:05:41.095453400Z",
     "start_time": "2025-01-20T00:05:39.896326Z"
    }
   },
   "outputs": [],
   "source": [
    "import warnings\n",
    "\n",
    "warnings.filterwarnings(\"ignore\")\n",
    "import pandas as pd\n",
    "import numpy as np\n",
    "import torch\n",
    "import torch.nn as nn\n",
    "from sklearn.model_selection import train_test_split\n",
    "from sklearn.preprocessing import MinMaxScaler\n",
    "from tqdm import tqdm\n",
    "import seaborn as sns\n",
    "import matplotlib.pyplot as plt\n"
   ]
  },
  {
   "cell_type": "markdown",
   "id": "6d38e1cffec7d7ed",
   "metadata": {},
   "source": [
    "# 数据读取+时间数据处理+归一化"
   ]
  },
  {
   "cell_type": "code",
   "execution_count": null,
   "id": "526e97575c573f9",
   "metadata": {
    "ExecuteTime": {
     "end_time": "2025-01-20T00:05:46.779645800Z",
     "start_time": "2025-01-20T00:05:46.748720500Z"
    }
   },
   "outputs": [],
   "source": [
    "# 读取数据\n",
    "train = pd.read_csv(r\"E:\\Learn\\机器学习\\big homework\\train_data.csv\")\n",
    "test = pd.read_csv(r\"E:\\Learn\\机器学习\\big homework\\test_data.csv\")\n",
    "\n",
    "# 标准化数据\n",
    "scaler = MinMaxScaler(feature_range=(0, 1))\n",
    "features = [\"temp\", \"atemp\", \"hum\", \"windspeed\", \"season\", \"weekday\", \"hr\", \"holiday\", \"weathersit\", \"workingday\",\"casual\",\"cnt\",\"registered\",\"season\"]\n",
    "train = train[features]\n",
    "test = test[features]\n",
    "train.dropna(inplace=True)\n",
    "features = features[:-1]\n",
    "train[features] = scaler.fit_transform(train[features])\n",
    "test[features] = scaler.transform(test[features])\n",
    "\n",
    "cnt_scaler = MinMaxScaler()\n",
    "train[\"cnt\"] = cnt_scaler.fit_transform(train[[\"cnt\"]])\n",
    "test[\"cnt\"] = cnt_scaler.transform(test[[\"cnt\"]])"
   ]
  },
  {
   "cell_type": "markdown",
   "id": "dd5f12c042721061",
   "metadata": {},
   "source": [
    "# 数据准备 时间步=96"
   ]
  },
  {
   "cell_type": "code",
   "execution_count": null,
   "id": "7066639238e76b17",
   "metadata": {
    "ExecuteTime": {
     "end_time": "2025-01-20T00:05:50.022683300Z",
     "start_time": "2025-01-20T00:05:49.053260500Z"
    }
   },
   "outputs": [],
   "source": [
    "# 准备数据\n",
    "def prepare_data(X, y, past_steps=96, forecast_steps=240):\n",
    "    Xs, Ys = [], []\n",
    "    for i in tqdm(range(len(X) - past_steps - forecast_steps + 1)):\n",
    "        # 输入包含过去 96 小时的数据\n",
    "        Xs.append(X.iloc[i:i + past_steps].to_numpy())\n",
    "        # 输出为未来 240 小时的目标值\n",
    "        Ys.append(y.iloc[i + past_steps:i + past_steps + forecast_steps].to_numpy())\n",
    "    return np.array(Xs), np.array(Ys)\n",
    "\n",
    "\n",
    "past_steps = 96    # 利用过去 \n",
    "forecast_steps = 96  # 预测未来 \n",
    "\n",
    "X_train, y_train = prepare_data(train, train.cnt, past_steps=past_steps, forecast_steps=forecast_steps)\n",
    "X_test, y_test = prepare_data(test, test.cnt, past_steps=past_steps, forecast_steps=forecast_steps)\n",
    "\n",
    "# 转换为 PyTorch 张量\n",
    "X_train = torch.tensor(X_train, dtype=torch.float32)\n",
    "y_train = torch.tensor(y_train, dtype=torch.float32)\n",
    "X_test = torch.tensor(X_test, dtype=torch.float32)\n",
    "y_test = torch.tensor(y_test, dtype=torch.float32)\n",
    "\n",
    "\n",
    "\n",
    "print(\"X_train : {}\\nX_test : {}\\ny_train : {}\\ny_test: {}\".format(X_train.shape,X_test.shape,y_train.shape,y_test.shape))\n"
   ]
  },
  {
   "cell_type": "markdown",
   "id": "3f35190b224020d0",
   "metadata": {},
   "source": [
    "# 模型构建"
   ]
  },
  {
   "cell_type": "code",
   "execution_count": null,
   "id": "b9d4edc70b2cce0d",
   "metadata": {
    "ExecuteTime": {
     "end_time": "2025-01-20T00:05:51.563199900Z",
     "start_time": "2025-01-20T00:05:51.556611500Z"
    }
   },
   "outputs": [],
   "source": [
    "    \n",
    "import torch\n",
    "import torch.nn as nn\n",
    "\n",
    "class LSTMWithAttention(nn.Module):\n",
    "    def __init__(self, input_dim, hidden_dim, output_dim, num_layers=1, num_heads=4, forecast_steps=240):\n",
    "        super(LSTMWithAttention, self).__init__()\n",
    "        self.lstm = nn.LSTM(input_dim, hidden_dim, num_layers, batch_first=True, bidirectional=True)\n",
    "        self.attention = nn.MultiheadAttention(embed_dim=hidden_dim * 2, num_heads=num_heads, batch_first=True)\n",
    "        \n",
    "        # 添加归一化层（LayerNorm）\n",
    "        self.lstm_norm = nn.LayerNorm(hidden_dim * 2)\n",
    "        self.attn_norm = nn.LayerNorm(hidden_dim * 2)\n",
    "        \n",
    "        self.dropout = nn.Dropout(0.3)\n",
    "        self.fc = nn.Linear(hidden_dim * 4, forecast_steps)  # 拼接后维度翻倍\n",
    "\n",
    "    def forward(self, x):\n",
    "        # LSTM 输出\n",
    "        lstm_out, _ = self.lstm(x)  # lstm_out: (batch_size, seq_len, hidden_dim * 2)\n",
    "        lstm_out = self.lstm_norm(lstm_out)  # 对 LSTM 输出进行归一化\n",
    "        \n",
    "        # 多头注意力模块\n",
    "        attn_out, _ = self.attention(lstm_out, lstm_out, lstm_out)  # attn_out: (batch_size, seq_len, hidden_dim * 2)\n",
    "        attn_out = self.attn_norm(attn_out)  # 对注意力输出进行归一化\n",
    "\n",
    "        # 取 LSTM 的最后时间步和注意力输出的最后时间步\n",
    "        lstm_last_step = lstm_out[:, -1, :]  # (batch_size, hidden_dim * 2)\n",
    "        attn_last_step = attn_out[:, -1, :]  # (batch_size, hidden_dim * 2)\n",
    "\n",
    "        # 拼接最后时间步的 LSTM 和注意力输出\n",
    "        combined = torch.cat([lstm_last_step, attn_last_step], dim=-1)  # (batch_size, hidden_dim * 4)\n",
    "\n",
    "        # Dropout 和全连接层预测未来 240 小时\n",
    "        combined = self.dropout(combined)\n",
    "        output = self.fc(combined)  # (batch_size, forecast_steps)\n",
    "\n",
    "        return output\n",
    "\n",
    "input_dim = X_train.shape[2]  # 输入特征的维度\n",
    "hidden_dim = 128             # LSTM 的隐藏单元数\n",
    "output_dim = 1               # 单步输出\n",
    "num_layers = 1               # LSTM 层数\n",
    "num_heads = 16                # 注意力头数\n",
    "model = LSTMWithAttention(input_dim, hidden_dim, output_dim, num_layers, num_heads, forecast_steps)"
   ]
  },
  {
   "cell_type": "markdown",
   "id": "593d5d594e4440a5",
   "metadata": {},
   "source": [
    "# 训练"
   ]
  },
  {
   "cell_type": "code",
   "execution_count": null,
   "id": "6ed9f0d32ec8bfd8",
   "metadata": {
    "ExecuteTime": {
     "start_time": "2025-01-20T00:05:58.526400600Z"
    },
    "is_executing": true
   },
   "outputs": [],
   "source": [
    "# 定义损失函数和优化器\n",
    "criterion = nn.MSELoss()\n",
    "optimizer = torch.optim.Adam(model.parameters(), lr=0.0001)\n",
    "\n",
    "# 训练模型\n",
    "device = torch.device('cuda' if torch.cuda.is_available() else 'cpu')\n",
    "model.to(device)\n",
    "X_train, y_train = X_train.to(device), y_train.to(device)\n",
    "X_test, y_test = X_test.to(device), y_test.to(device)\n",
    "\n",
    "epochs = 200\n",
    "batch_size = 32\n",
    "train_loss_history = []\n",
    "val_loss_history = []\n",
    "\n",
    "\n",
    "for epoch in range(epochs):\n",
    "    model.train()\n",
    "    epoch_loss = 0\n",
    "    for i in range(0, len(X_train), batch_size):\n",
    "        X_batch = X_train[i:i + batch_size]\n",
    "        y_batch = y_train[i:i + batch_size]\n",
    "\n",
    "        optimizer.zero_grad()\n",
    "        outputs = model(X_batch)\n",
    "        loss = criterion(outputs, y_batch)\n",
    "        loss.backward()\n",
    "        optimizer.step()\n",
    "\n",
    "        epoch_loss += loss.item()\n",
    "\n",
    "    # 验证集损失\n",
    "    model.eval()\n",
    "    with torch.no_grad():\n",
    "        val_outputs = model(X_test)\n",
    "        val_loss = criterion(val_outputs, y_test)\n",
    "\n",
    "    print(f\"Epoch {epoch + 1}/{epochs}, Train Loss: {epoch_loss / len(X_train):.4f}, Val Loss: {val_loss.item():.4f}\")\n"
   ]
  },
  {
   "cell_type": "markdown",
   "id": "6e47ad07a664e981",
   "metadata": {
    "collapsed": false,
    "jupyter": {
     "outputs_hidden": false
    }
   },
   "source": [
    "# 训练曲线"
   ]
  },
  {
   "cell_type": "code",
   "execution_count": null,
   "id": "bc8fdf0a43ffb007",
   "metadata": {
    "ExecuteTime": {
     "end_time": "2025-01-20T00:03:55.082311700Z",
     "start_time": "2025-01-20T00:03:55.064649400Z"
    }
   },
   "outputs": [],
   "source": [
    "torch.save(model, \"96-5.pth\")\n",
    "# 绘制损失曲线\n",
    "# plt.plot(train_loss_history, label=\"Train Loss\")\n",
    "# plt.plot(val_loss_history, label=\"Validation Loss\")\n",
    "# plt.legend()\n",
    "# plt.xlabel(\"Epochs\")\n",
    "# plt.ylabel(\"MSE Loss\")\n",
    "# plt.title(\"Training and Validation Loss\")\n",
    "# plt.show()"
   ]
  },
  {
   "cell_type": "code",
   "execution_count": null,
   "id": "b861c87edf40fa59",
   "metadata": {
    "ExecuteTime": {
     "end_time": "2025-01-20T00:03:56.255982900Z",
     "start_time": "2025-01-20T00:03:55.769597800Z"
    },
    "collapsed": false,
    "jupyter": {
     "outputs_hidden": false
    }
   },
   "outputs": [],
   "source": [
    "# 切换模型到评估模式\n",
    "model.eval()\n",
    "\n",
    "# 禁用梯度计算\n",
    "with torch.no_grad():\n",
    "    # 使用模型进行预测\n",
    "    y_pred = model(X_test).cpu().numpy()  # 预测值转为 NumPy 数组\n",
    "    y_true = y_test.cpu().numpy()  # 真实值转为 NumPy 数组\n",
    "\n",
    "# 将预测值和真实值反标准化\n",
    "y_test_inv = cnt_scaler.inverse_transform(y_test.cpu().numpy().reshape(-1, forecast_steps))\n",
    "y_pred_inv = cnt_scaler.inverse_transform(val_outputs.cpu().numpy().reshape(-1, forecast_steps))\n",
    "\n",
    "\n",
    "sample_idx = 0  # 选择一个样本进行可视化\n",
    "plt.figure(figsize=(16, 6))\n",
    "plt.plot(range(forecast_steps), y_test_inv[sample_idx], marker=\"o\", label=\"Actual\")\n",
    "plt.plot(range(forecast_steps), y_pred_inv[sample_idx], marker=\"x\", label=\"Prediction\", color=\"r\")\n",
    "plt.legend()\n",
    "plt.title(\"Actual vs Predicted (Future 240 Hours)\")\n",
    "plt.xlabel(\"Future Time Steps\")\n",
    "plt.ylabel(\"Count (cnt)\")\n",
    "plt.show()"
   ]
  },
  {
   "cell_type": "code",
   "execution_count": null,
   "id": "4e157f5d624ae934",
   "metadata": {
    "ExecuteTime": {
     "end_time": "2025-01-20T00:03:57.175240100Z",
     "start_time": "2025-01-20T00:03:57.158513400Z"
    }
   },
   "outputs": [],
   "source": [
    "from sklearn.metrics import mean_squared_error, r2_score\n",
    "\n",
    "rmse = np.sqrt(mean_squared_error(y_test_inv.flatten(), y_pred_inv.flatten()))\n",
    "r2 = r2_score(y_test_inv.flatten(), y_pred_inv.flatten())\n",
    "\n",
    "print(f\"Overall RMSE: {rmse:.4f}\")\n",
    "print(f\"Overall R²: {r2:.4f}\")\n"
   ]
  },
  {
   "cell_type": "code",
   "execution_count": null,
   "id": "b724f48ab7a8ef4e",
   "metadata": {
    "collapsed": false,
    "jupyter": {
     "outputs_hidden": false
    }
   },
   "outputs": [],
   "source": []
  }
 ],
 "metadata": {
  "kernelspec": {
   "display_name": "Python 3 (ipykernel)",
   "language": "python",
   "name": "python3"
  },
  "language_info": {
   "codemirror_mode": {
    "name": "ipython",
    "version": 3
   },
   "file_extension": ".py",
   "mimetype": "text/x-python",
   "name": "python",
   "nbconvert_exporter": "python",
   "pygments_lexer": "ipython3",
   "version": "3.10.16"
  }
 },
 "nbformat": 4,
 "nbformat_minor": 5
}
