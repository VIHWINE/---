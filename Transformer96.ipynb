{
 "cells": [
  {
   "cell_type": "code",
   "execution_count": null,
   "id": "8bf0e34e-f233-45db-bd4d-4d9495a3be02",
   "metadata": {
    "ExecuteTime": {
     "end_time": "2025-01-19T13:14:05.593514400Z",
     "start_time": "2025-01-19T13:14:03.199807100Z"
    }
   },
   "outputs": [],
   "source": [
    "import numpy as np\n",
    "import pandas as pd\n",
    "import torch\n",
    "import torch.nn as nn\n",
    "from torch.utils.data import DataLoader, Dataset\n",
    "import matplotlib.pyplot as plt\n",
    "from sklearn.preprocessing import MinMaxScaler"
   ]
  },
  {
   "cell_type": "code",
   "execution_count": null,
   "id": "3c75ad4e-c948-4394-86ee-4fcf6912d03f",
   "metadata": {
    "ExecuteTime": {
     "end_time": "2025-01-19T13:15:08.418130400Z",
     "start_time": "2025-01-19T13:15:08.392998600Z"
    }
   },
   "outputs": [],
   "source": [
    "# Load data\n",
    "df = pd.read_csv(r\".\\Data\\train_data.csv\")\n",
    "ts_df = pd.read_csv(r\".\\Data\\test_data.csv\")"
   ]
  },
  {
   "cell_type": "code",
   "execution_count": null,
   "id": "0236f9cd-71b8-4c6a-ad68-84988c7567d9",
   "metadata": {
    "ExecuteTime": {
     "end_time": "2025-01-19T14:42:59.484443400Z",
     "start_time": "2025-01-19T14:42:59.437258600Z"
    }
   },
   "outputs": [],
   "source": [
    "# Feature processing\n",
    "def preprocess_data(df):\n",
    "    features = [\"temp\", \"atemp\", \"hum\", \"windspeed\", \"season\", \"weekday\", \"hr\", \"holiday\", \"weathersit\", \"workingday\"]\n",
    "    target = \"cnt\"\n",
    "    df_features = df[features]\n",
    "    df_features.dropna(inplace=True)\n",
    "    df_target = df[target]\n",
    "    return df_features.values, df_target.values\n",
    "\n",
    "X, y = preprocess_data(df)\n",
    "scaler = MinMaxScaler(feature_range=(0, 1))\n",
    "y = scaler.fit_transform(y.reshape(-1, 1))\n",
    "tX, ty = preprocess_data(ts_df)\n",
    "ty = scaler.fit_transform(ty.reshape(-1, 1))\n",
    "print(len(df))"
   ]
  },
  {
   "cell_type": "code",
   "execution_count": null,
   "id": "b9342241-9c55-443c-95dd-f513d810246a",
   "metadata": {
    "ExecuteTime": {
     "end_time": "2025-01-19T14:43:01.604510700Z",
     "start_time": "2025-01-19T14:43:01.592285600Z"
    }
   },
   "outputs": [],
   "source": [
    "# Dataset definition\n",
    "class BikeDataset(Dataset):\n",
    "    def __init__(self, X, y, input_len=96, output_len=96):\n",
    "        self.X = X\n",
    "        self.y = y\n",
    "        self.input_len = input_len\n",
    "        self.output_len = output_len\n",
    "\n",
    "    def __len__(self):\n",
    "        return len(self.X) - self.input_len - self.output_len + 1\n",
    "\n",
    "    def __getitem__(self, idx):\n",
    "        return (\n",
    "            torch.tensor(self.X[idx:idx + self.input_len], dtype=torch.float32),\n",
    "            torch.tensor(self.y[idx + self.input_len:idx + self.input_len + self.output_len], dtype=torch.float32),\n",
    "        )"
   ]
  },
  {
   "cell_type": "code",
   "execution_count": null,
   "id": "d85b3253-8546-4580-a121-e154e6047711",
   "metadata": {
    "ExecuteTime": {
     "end_time": "2025-01-19T14:43:03.735411500Z",
     "start_time": "2025-01-19T14:43:03.719341500Z"
    }
   },
   "outputs": [],
   "source": [
    "# Create data loaders\n",
    "train_dataset = BikeDataset(X, y)\n",
    "train_loader = DataLoader(train_dataset, batch_size=32, shuffle=True)\n",
    "test_dataset = BikeDataset(tX, ty)\n",
    "test_loader = DataLoader(test_dataset, batch_size=32, shuffle=False)"
   ]
  },
  {
   "cell_type": "code",
   "execution_count": null,
   "id": "3690be8a-14fc-45cd-a180-51761b005468",
   "metadata": {
    "ExecuteTime": {
     "end_time": "2025-01-19T14:43:04.180555600Z",
     "start_time": "2025-01-19T14:43:04.161555100Z"
    }
   },
   "outputs": [],
   "source": [
    "device = torch.device(\"cuda\" if torch.cuda.is_available() else \"cpu\")\n",
    "print(f\"Using device: {device}\")\n"
   ]
  },
  {
   "cell_type": "code",
   "execution_count": null,
   "id": "73d2625c-d9ff-44ba-b0ed-56cd3694dd81",
   "metadata": {
    "ExecuteTime": {
     "end_time": "2025-01-19T14:43:05.244624900Z",
     "start_time": "2025-01-19T14:43:04.895928300Z"
    }
   },
   "outputs": [],
   "source": [
    "# Transformer model\n",
    "class TransformerModel(nn.Module):\n",
    "        def __init__(self, input_dim, output_dim, seq_len, hidden_dim=512, nhead=4, num_encoder_layers=3):\n",
    "            super(TransformerModel, self).__init__()\n",
    "            self.embedding = nn.Linear(input_dim, hidden_dim)\n",
    "            self.pos_encoder = nn.Parameter(torch.randn(seq_len, hidden_dim)).unsqueeze(0).repeat(32, 1, 1).permute(1,0,2)\n",
    "            self.transformer = nn.Transformer(d_model=hidden_dim, nhead=nhead, num_encoder_layers=num_encoder_layers, dropout=0.3, activation=\"gelu\")\n",
    "            self.fc_out = nn.Linear(hidden_dim, output_dim)\n",
    "\n",
    "        def forward(self, x):\n",
    "            x = x.permute(1, 0, 2)\n",
    "            device = x.device\n",
    "            self.pos_encoder = self.pos_encoder.to(device)\n",
    "            x = self.embedding(x)+self.pos_encoder\n",
    "            x = self.transformer(x, x)\n",
    "            return self.fc_out(x[-1, :, :])\n",
    "def get_transformer_model(input_dim, output_dim, seq_len):\n",
    "    return TransformerModel(input_dim, output_dim, seq_len)\n",
    "\n",
    "model = get_transformer_model(input_dim=X.shape[1], output_dim=96, seq_len=96)\n",
    "print(X.shape[1])\n",
    "model = model.to(device)"
   ]
  },
  {
   "cell_type": "code",
   "execution_count": null,
   "id": "de1b0257-3bc2-41db-9445-4b1f5a5761ab",
   "metadata": {
    "ExecuteTime": {
     "start_time": "2025-01-19T17:43:02.300999300Z"
    },
    "is_executing": true,
    "scrolled": true
   },
   "outputs": [],
   "source": [
    "# Training setup\n",
    "criterion = nn.MSELoss()\n",
    "optimizer = torch.optim.Adam(model.parameters(), lr=1e-4)\n",
    "# scheduler = torch.optim.lr_scheduler.StepLR(optimizer, step_size=10, gamma=0.1)\n",
    "def train_model(model, dataloader, criterion, optimizer, epochs=30):\n",
    "    for epoch in range(epochs):\n",
    "        model.train()\n",
    "        epoch_loss = 0\n",
    "        for inputs, targets in dataloader:\n",
    "            # print(type(targets))\n",
    "            # inputs, targets = pad_sequence(inputs), pad_sequence(targets)\n",
    "            if len(inputs) != 32:\n",
    "                continue\n",
    "            targets = targets.to(device)\n",
    "            inputs = inputs.to(device)\n",
    "            optimizer.zero_grad()\n",
    "            outputs = model(inputs)\n",
    "            # print(outputs.shape, targets[:,:,0].shape)\n",
    "            loss = criterion(outputs.squeeze(), targets[:,:,0].squeeze())\n",
    "            loss.backward()\n",
    "            optimizer.step()\n",
    "\n",
    "            epoch_loss += loss.item()\n",
    "\n",
    "        print(f\"Epoch {epoch + 1}/{epochs}, Loss: {epoch_loss / (len(dataloader)//32*32):.4f}\")\n",
    "\n",
    "train_model(model, train_loader, criterion, optimizer)\n",
    "# 保存整个模型\n",
    "torch.save(model, \"Transformer96-4.pth\")\n"
   ]
  },
  {
   "cell_type": "code",
   "execution_count": null,
   "id": "16bf0440-9bec-4021-9a50-b82c10fe537c",
   "metadata": {},
   "outputs": [],
   "source": [
    "# Plotting predictions vs actual values\n",
    "model.eval()\n",
    "predictions, actuals = [], []\n",
    "cnt = 0\n",
    "with torch.no_grad():\n",
    "    for inputs, targets in test_loader:\n",
    "        # inputs = inputs.transpose(0, 1)\n",
    "        inputs = inputs.to(device)\n",
    "        if len(inputs)!=32:\n",
    "            continue\n",
    "        outputs = model(inputs)\n",
    "        predictions.append(outputs.cpu().numpy())\n",
    "        actuals.append(targets.cpu().numpy())"
   ]
  },
  {
   "cell_type": "code",
   "execution_count": null,
   "id": "eb674b7e-99ab-483d-b14d-569e65c8f0e2",
   "metadata": {},
   "outputs": [],
   "source": [
    "plt.plot(actuals[0][0], label=\"Actual\")  # 第一个批次，第一个样本的真实值\n",
    "plt.plot(predictions[0][0], label=\"Prediction\")  # 第一个批次，第一个样本的预测值\n",
    "plt.legend()\n",
    "plt.title(\"Prediction vs Actual\")\n",
    "plt.show()"
   ]
  },
  {
   "cell_type": "code",
   "execution_count": null,
   "id": "643a161a-81b3-48c0-8e0b-2c90e6f8684e",
   "metadata": {},
   "outputs": [],
   "source": []
  }
 ],
 "metadata": {
  "kernelspec": {
   "display_name": "Python 3 (ipykernel)",
   "language": "python",
   "name": "python3"
  },
  "language_info": {
   "codemirror_mode": {
    "name": "ipython",
    "version": 3
   },
   "file_extension": ".py",
   "mimetype": "text/x-python",
   "name": "python",
   "nbconvert_exporter": "python",
   "pygments_lexer": "ipython3",
   "version": "3.10.16"
  }
 },
 "nbformat": 4,
 "nbformat_minor": 5
}
